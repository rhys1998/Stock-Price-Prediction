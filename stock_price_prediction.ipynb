{
  "nbformat": 4,
  "nbformat_minor": 0,
  "metadata": {
    "colab": {
      "name": "stock_price_prediction.ipynb",
      "provenance": [],
      "collapsed_sections": [],
      "authorship_tag": "ABX9TyMygoVpLtiE8zryWM2pyGsD",
      "include_colab_link": true
    },
    "kernelspec": {
      "name": "python3",
      "display_name": "Python 3"
    }
  },
  "cells": [
    {
      "cell_type": "markdown",
      "metadata": {
        "id": "view-in-github",
        "colab_type": "text"
      },
      "source": [
        "<a href=\"https://colab.research.google.com/github/rhys1998/Stock-Price-Prediction/blob/master/stock_price_prediction.ipynb\" target=\"_parent\"><img src=\"https://colab.research.google.com/assets/colab-badge.svg\" alt=\"Open In Colab\"/></a>"
      ]
    },
    {
      "cell_type": "code",
      "metadata": {
        "id": "gK6wLOzhdwij",
        "colab_type": "code",
        "colab": {}
      },
      "source": [
        "#This program uses an artificial recurrent neural network called LOng Short term memory\n",
        "#to predict share price"
      ],
      "execution_count": 0,
      "outputs": []
    },
    {
      "cell_type": "code",
      "metadata": {
        "id": "7NYhavOyZo-u",
        "colab_type": "code",
        "colab": {}
      },
      "source": [
        "#import libraries\n",
        "import math\n",
        "import pandas_datareader as web\n",
        "import numpy as np\n",
        "import pandas as pd\n",
        "from sklearn.preprocessing import MinMaxScaler\n",
        "from keras.models import Sequential\n",
        "from keras.layers import Dense,LSTM\n",
        "import matplotlib.pyplot as plt\n",
        "\n",
        "from datetime import date\n",
        "\n",
        "today = date.today()\n",
        "\n"
      ],
      "execution_count": 0,
      "outputs": []
    },
    {
      "cell_type": "code",
      "metadata": {
        "id": "l-32-cLPeCGs",
        "colab_type": "code",
        "outputId": "1624dba1-e194-4a76-fc7e-63b788a9c3c4",
        "colab": {
          "base_uri": "https://localhost:8080/",
          "height": 428
        }
      },
      "source": [
        "#get the stock quote\n",
        "df= web.DataReader('msft',data_source='yahoo', start='2012-01-01' , end= today)\n",
        "\n",
        "#show the data\n",
        "df"
      ],
      "execution_count": 0,
      "outputs": [
        {
          "output_type": "execute_result",
          "data": {
            "text/html": [
              "<div>\n",
              "<style scoped>\n",
              "    .dataframe tbody tr th:only-of-type {\n",
              "        vertical-align: middle;\n",
              "    }\n",
              "\n",
              "    .dataframe tbody tr th {\n",
              "        vertical-align: top;\n",
              "    }\n",
              "\n",
              "    .dataframe thead th {\n",
              "        text-align: right;\n",
              "    }\n",
              "</style>\n",
              "<table border=\"1\" class=\"dataframe\">\n",
              "  <thead>\n",
              "    <tr style=\"text-align: right;\">\n",
              "      <th></th>\n",
              "      <th>High</th>\n",
              "      <th>Low</th>\n",
              "      <th>Open</th>\n",
              "      <th>Close</th>\n",
              "      <th>Volume</th>\n",
              "      <th>Adj Close</th>\n",
              "    </tr>\n",
              "    <tr>\n",
              "      <th>Date</th>\n",
              "      <th></th>\n",
              "      <th></th>\n",
              "      <th></th>\n",
              "      <th></th>\n",
              "      <th></th>\n",
              "      <th></th>\n",
              "    </tr>\n",
              "  </thead>\n",
              "  <tbody>\n",
              "    <tr>\n",
              "      <th>2012-01-03</th>\n",
              "      <td>26.959999</td>\n",
              "      <td>26.389999</td>\n",
              "      <td>26.549999</td>\n",
              "      <td>26.770000</td>\n",
              "      <td>64731500.0</td>\n",
              "      <td>22.020796</td>\n",
              "    </tr>\n",
              "    <tr>\n",
              "      <th>2012-01-04</th>\n",
              "      <td>27.469999</td>\n",
              "      <td>26.780001</td>\n",
              "      <td>26.820000</td>\n",
              "      <td>27.400000</td>\n",
              "      <td>80516100.0</td>\n",
              "      <td>22.539021</td>\n",
              "    </tr>\n",
              "    <tr>\n",
              "      <th>2012-01-05</th>\n",
              "      <td>27.730000</td>\n",
              "      <td>27.290001</td>\n",
              "      <td>27.379999</td>\n",
              "      <td>27.680000</td>\n",
              "      <td>56081400.0</td>\n",
              "      <td>22.769344</td>\n",
              "    </tr>\n",
              "    <tr>\n",
              "      <th>2012-01-06</th>\n",
              "      <td>28.190001</td>\n",
              "      <td>27.530001</td>\n",
              "      <td>27.530001</td>\n",
              "      <td>28.110001</td>\n",
              "      <td>99455500.0</td>\n",
              "      <td>23.123066</td>\n",
              "    </tr>\n",
              "    <tr>\n",
              "      <th>2012-01-09</th>\n",
              "      <td>28.100000</td>\n",
              "      <td>27.719999</td>\n",
              "      <td>28.049999</td>\n",
              "      <td>27.740000</td>\n",
              "      <td>59706800.0</td>\n",
              "      <td>22.818701</td>\n",
              "    </tr>\n",
              "    <tr>\n",
              "      <th>...</th>\n",
              "      <td>...</td>\n",
              "      <td>...</td>\n",
              "      <td>...</td>\n",
              "      <td>...</td>\n",
              "      <td>...</td>\n",
              "      <td>...</td>\n",
              "    </tr>\n",
              "    <tr>\n",
              "      <th>2020-02-19</th>\n",
              "      <td>188.179993</td>\n",
              "      <td>186.470001</td>\n",
              "      <td>188.059998</td>\n",
              "      <td>187.279999</td>\n",
              "      <td>29997500.0</td>\n",
              "      <td>187.279999</td>\n",
              "    </tr>\n",
              "    <tr>\n",
              "      <th>2020-02-20</th>\n",
              "      <td>187.250000</td>\n",
              "      <td>181.100006</td>\n",
              "      <td>186.949997</td>\n",
              "      <td>184.419998</td>\n",
              "      <td>36862400.0</td>\n",
              "      <td>184.419998</td>\n",
              "    </tr>\n",
              "    <tr>\n",
              "      <th>2020-02-21</th>\n",
              "      <td>183.500000</td>\n",
              "      <td>177.250000</td>\n",
              "      <td>183.169998</td>\n",
              "      <td>178.589996</td>\n",
              "      <td>48572600.0</td>\n",
              "      <td>178.589996</td>\n",
              "    </tr>\n",
              "    <tr>\n",
              "      <th>2020-02-24</th>\n",
              "      <td>174.550003</td>\n",
              "      <td>163.229996</td>\n",
              "      <td>167.770004</td>\n",
              "      <td>170.889999</td>\n",
              "      <td>68311100.0</td>\n",
              "      <td>170.889999</td>\n",
              "    </tr>\n",
              "    <tr>\n",
              "      <th>2020-02-25</th>\n",
              "      <td>174.839996</td>\n",
              "      <td>167.649994</td>\n",
              "      <td>174.199997</td>\n",
              "      <td>168.070007</td>\n",
              "      <td>67936100.0</td>\n",
              "      <td>168.070007</td>\n",
              "    </tr>\n",
              "  </tbody>\n",
              "</table>\n",
              "<p>2049 rows × 6 columns</p>\n",
              "</div>"
            ],
            "text/plain": [
              "                  High         Low  ...      Volume   Adj Close\n",
              "Date                                ...                        \n",
              "2012-01-03   26.959999   26.389999  ...  64731500.0   22.020796\n",
              "2012-01-04   27.469999   26.780001  ...  80516100.0   22.539021\n",
              "2012-01-05   27.730000   27.290001  ...  56081400.0   22.769344\n",
              "2012-01-06   28.190001   27.530001  ...  99455500.0   23.123066\n",
              "2012-01-09   28.100000   27.719999  ...  59706800.0   22.818701\n",
              "...                ...         ...  ...         ...         ...\n",
              "2020-02-19  188.179993  186.470001  ...  29997500.0  187.279999\n",
              "2020-02-20  187.250000  181.100006  ...  36862400.0  184.419998\n",
              "2020-02-21  183.500000  177.250000  ...  48572600.0  178.589996\n",
              "2020-02-24  174.550003  163.229996  ...  68311100.0  170.889999\n",
              "2020-02-25  174.839996  167.649994  ...  67936100.0  168.070007\n",
              "\n",
              "[2049 rows x 6 columns]"
            ]
          },
          "metadata": {
            "tags": []
          },
          "execution_count": 93
        }
      ]
    },
    {
      "cell_type": "code",
      "metadata": {
        "id": "PaWP1zLcfCzy",
        "colab_type": "code",
        "outputId": "574e210f-ac39-432c-b0b5-f121e38208a0",
        "colab": {
          "base_uri": "https://localhost:8080/",
          "height": 35
        }
      },
      "source": [
        "#get the  no of rowes and columns\n",
        "df.shape"
      ],
      "execution_count": 0,
      "outputs": [
        {
          "output_type": "execute_result",
          "data": {
            "text/plain": [
              "(2049, 6)"
            ]
          },
          "metadata": {
            "tags": []
          },
          "execution_count": 63
        }
      ]
    },
    {
      "cell_type": "code",
      "metadata": {
        "id": "kv68YF6SfcTx",
        "colab_type": "code",
        "outputId": "1947d605-1d92-4e3f-febf-da08ce1213fb",
        "colab": {
          "base_uri": "https://localhost:8080/",
          "height": 650
        }
      },
      "source": [
        "#visualize the closing priice\n",
        "plt.figure(figsize=(20,10))\n",
        "plt.title('Closing price')\n",
        "plt.plot(df['Close'])\n",
        "plt.xlabel('Closing Price USD ($) ',fontsize=18)\n",
        "plt.show()"
      ],
      "execution_count": 0,
      "outputs": [
        {
          "output_type": "display_data",
          "data": {
            "image/png": "[encoded data removed]",
            "text/plain": [
              "<Figure size 1440x720 with 1 Axes>"
            ]
          },
          "metadata": {
            "tags": []
          }
        }
      ]
    },
    {
      "cell_type": "code",
      "metadata": {
        "id": "4bOdk-S4jsJD",
        "colab_type": "code",
        "outputId": "a20944e6-1f1c-4f33-8ba5-b3e94c26849d",
        "colab": {
          "base_uri": "https://localhost:8080/",
          "height": 35
        }
      },
      "source": [
        " #create a dataframe with only the 'close coloumn'\n",
        " data = df.filter(['Close'])\n",
        " #convert the data frame into numpy array\n",
        " dataset=data.values\n",
        " #get the no of rows to train the model on\n",
        " training_data_len = math.ceil( len(dataset) * .8)\n",
        "\n",
        " training_data_len"
      ],
      "execution_count": 0,
      "outputs": [
        {
          "output_type": "execute_result",
          "data": {
            "text/plain": [
              "1640"
            ]
          },
          "metadata": {
            "tags": []
          },
          "execution_count": 65
        }
      ]
    },
    {
      "cell_type": "code",
      "metadata": {
        "id": "k65DFtWQpCIB",
        "colab_type": "code",
        "outputId": "f1eb9d65-ef62-415a-d93d-dec142109e8b",
        "colab": {
          "base_uri": "https://localhost:8080/",
          "height": 141
        }
      },
      "source": [
        "#scale the data\n",
        "scaler = MinMaxScaler(feature_range=(0,1))\n",
        "scaled_data = scaler.fit_transform(dataset)\n",
        "\n",
        "\n",
        "scaled_data"
      ],
      "execution_count": 0,
      "outputs": [
        {
          "output_type": "execute_result",
          "data": {
            "text/plain": [
              "array([[0.00246411],\n",
              "       [0.00634509],\n",
              "       [0.00806998],\n",
              "       ...,\n",
              "       [0.93771946],\n",
              "       [0.89028523],\n",
              "       [0.87291326]])"
            ]
          },
          "metadata": {
            "tags": []
          },
          "execution_count": 66
        }
      ]
    },
    {
      "cell_type": "code",
      "metadata": {
        "id": "41JNQqtmpnmv",
        "colab_type": "code",
        "outputId": "737b1c9f-61bb-42ee-c42a-7e2d7eb389ea",
        "colab": {
          "base_uri": "https://localhost:8080/",
          "height": 730
        }
      },
      "source": [
        "#create  the training dataset\n",
        "#create the scaled training dataset\n",
        "train_data = scaled_data[0:training_data_len, :]\n",
        "#split the data into x_train and y_train data set\n",
        "x_train = []\n",
        "y_train = []\n",
        "\n",
        "\n",
        "for i in range(60, len(train_data)):\n",
        "  x_train.append(train_data[i-60:i, 0])\n",
        "  y_train.append(train_data[i, 0])\n",
        "  if i<=61:\n",
        "    print(x_train)\n",
        "    print(y_train)\n",
        "    print()\n",
        "    "
      ],
      "execution_count": 0,
      "outputs": [
        {
          "output_type": "stream",
          "text": [
            "[array([0.00246411, 0.00634509, 0.00806998, 0.0107189 , 0.00843959,\n",
            "       0.00905562, 0.00831638, 0.01004127, 0.01158134, 0.01164295,\n",
            "       0.01145813, 0.01078051, 0.02057536, 0.02069857, 0.01829606,\n",
            "       0.01965132, 0.01928171, 0.01761842, 0.01995934, 0.01946652,\n",
            "       0.02168422, 0.02205384, 0.02384032, 0.02359391, 0.02451796,\n",
            "       0.02642764, 0.02710528, 0.025442  , 0.02593482, 0.02390192,\n",
            "       0.02266986, 0.03030863, 0.03006221, 0.03123267, 0.03018542,\n",
            "       0.03080145, 0.03147908, 0.03067825, 0.0338816 , 0.03308076,\n",
            "       0.03646892, 0.03517527, 0.03345037, 0.0319719 , 0.03369679,\n",
            "       0.03474403, 0.03462083, 0.03492885, 0.03880982, 0.03942586,\n",
            "       0.03991867, 0.0383786 , 0.0359145 , 0.03462083, 0.03412801,\n",
            "       0.03468243, 0.03474403, 0.03831701, 0.03788579, 0.03585288])]\n",
            "[0.03542166100213601]\n",
            "\n",
            "[array([0.00246411, 0.00634509, 0.00806998, 0.0107189 , 0.00843959,\n",
            "       0.00905562, 0.00831638, 0.01004127, 0.01158134, 0.01164295,\n",
            "       0.01145813, 0.01078051, 0.02057536, 0.02069857, 0.01829606,\n",
            "       0.01965132, 0.01928171, 0.01761842, 0.01995934, 0.01946652,\n",
            "       0.02168422, 0.02205384, 0.02384032, 0.02359391, 0.02451796,\n",
            "       0.02642764, 0.02710528, 0.025442  , 0.02593482, 0.02390192,\n",
            "       0.02266986, 0.03030863, 0.03006221, 0.03123267, 0.03018542,\n",
            "       0.03080145, 0.03147908, 0.03067825, 0.0338816 , 0.03308076,\n",
            "       0.03646892, 0.03517527, 0.03345037, 0.0319719 , 0.03369679,\n",
            "       0.03474403, 0.03462083, 0.03492885, 0.03880982, 0.03942586,\n",
            "       0.03991867, 0.0383786 , 0.0359145 , 0.03462083, 0.03412801,\n",
            "       0.03468243, 0.03474403, 0.03831701, 0.03788579, 0.03585288]), array([0.00634509, 0.00806998, 0.0107189 , 0.00843959, 0.00905562,\n",
            "       0.00831638, 0.01004127, 0.01158134, 0.01164295, 0.01145813,\n",
            "       0.01078051, 0.02057536, 0.02069857, 0.01829606, 0.01965132,\n",
            "       0.01928171, 0.01761842, 0.01995934, 0.01946652, 0.02168422,\n",
            "       0.02205384, 0.02384032, 0.02359391, 0.02451796, 0.02642764,\n",
            "       0.02710528, 0.025442  , 0.02593482, 0.02390192, 0.02266986,\n",
            "       0.03030863, 0.03006221, 0.03123267, 0.03018542, 0.03080145,\n",
            "       0.03147908, 0.03067825, 0.0338816 , 0.03308076, 0.03646892,\n",
            "       0.03517527, 0.03345037, 0.0319719 , 0.03369679, 0.03474403,\n",
            "       0.03462083, 0.03492885, 0.03880982, 0.03942586, 0.03991867,\n",
            "       0.0383786 , 0.0359145 , 0.03462083, 0.03412801, 0.03468243,\n",
            "       0.03474403, 0.03831701, 0.03788579, 0.03585288, 0.03542166])]\n",
            "[0.03542166100213601, 0.0362840979700666]\n",
            "\n"
          ],
          "name": "stdout"
        }
      ]
    },
    {
      "cell_type": "code",
      "metadata": {
        "id": "IKQN9EJMLxvY",
        "colab_type": "code",
        "colab": {}
      },
      "source": [
        "#convert the x_train and y_train to numpy arrays\n",
        "x_train, y_train = np.array(x_train),np.array(y_train)\n"
      ],
      "execution_count": 0,
      "outputs": []
    },
    {
      "cell_type": "code",
      "metadata": {
        "id": "cYhaVlIEMEmX",
        "colab_type": "code",
        "outputId": "0aba2a9b-8044-4f4f-b9eb-2d7beac3e4c9",
        "colab": {
          "base_uri": "https://localhost:8080/",
          "height": 35
        }
      },
      "source": [
        "#Reshape the data\n",
        "x_train=np.reshape(x_train ,(x_train.shape[0],x_train.shape[1],1))\n",
        "x_train.shape"
      ],
      "execution_count": 0,
      "outputs": [
        {
          "output_type": "execute_result",
          "data": {
            "text/plain": [
              "(1580, 60, 1)"
            ]
          },
          "metadata": {
            "tags": []
          },
          "execution_count": 69
        }
      ]
    },
    {
      "cell_type": "code",
      "metadata": {
        "id": "paMwjnFCMj9n",
        "colab_type": "code",
        "colab": {}
      },
      "source": [
        "#Build the LSTM model\n",
        "model = Sequential()\n",
        "model.add(LSTM(50,return_sequences=True,input_shape= (x_train.shape[1],1)))\n",
        "model.add(LSTM(50,return_sequences=False))\n",
        "model.add(Dense(25))\n",
        "model.add(Dense(1))\n"
      ],
      "execution_count": 0,
      "outputs": []
    },
    {
      "cell_type": "code",
      "metadata": {
        "id": "StxneREKN4MW",
        "colab_type": "code",
        "colab": {}
      },
      "source": [
        "#compile the model\n",
        "model.compile(optimizer='adam' , loss='mean_squared_error')"
      ],
      "execution_count": 0,
      "outputs": []
    },
    {
      "cell_type": "code",
      "metadata": {
        "id": "bh_YObnqdlEj",
        "colab_type": "code",
        "outputId": "07b87847-8c08-494b-d1c4-cb0db0a83ecd",
        "colab": {
          "base_uri": "https://localhost:8080/",
          "height": 70
        }
      },
      "source": [
        "#Train the model\n",
        "model.fit(x_train,y_train, batch_size=1 , epochs=1)"
      ],
      "execution_count": 0,
      "outputs": [
        {
          "output_type": "stream",
          "text": [
            "Epoch 1/1\n",
            "1580/1580 [==============================] - 114s 72ms/step - loss: 4.5206e-04\n"
          ],
          "name": "stdout"
        },
        {
          "output_type": "execute_result",
          "data": {
            "text/plain": [
              "<keras.callbacks.History at 0x7f4a45449a90>"
            ]
          },
          "metadata": {
            "tags": []
          },
          "execution_count": 72
        }
      ]
    },
    {
      "cell_type": "code",
      "metadata": {
        "id": "LXycqPVoed2d",
        "colab_type": "code",
        "colab": {}
      },
      "source": [
        "#create the testing dataset\n",
        "#create a new array containing scaled values from index 1543 to 2003\n",
        "test_data = scaled_data[training_data_len - 60: , :]\n",
        "#create the data sets x_test and y_test\n",
        "x_test = []\n",
        "y_test = dataset[training_data_len: , :]\n",
        "for i in range(60, len(test_data)):\n",
        "  x_test.append(test_data[i-60:i, 0])"
      ],
      "execution_count": 0,
      "outputs": []
    },
    {
      "cell_type": "code",
      "metadata": {
        "id": "p5PtAp6YfjX1",
        "colab_type": "code",
        "colab": {}
      },
      "source": [
        "#convert the data to a numpy array\n",
        "x_test= np.array(x_test)"
      ],
      "execution_count": 0,
      "outputs": []
    },
    {
      "cell_type": "code",
      "metadata": {
        "id": "57DQU4Drf1oA",
        "colab_type": "code",
        "colab": {}
      },
      "source": [
        "#Reshape the datA\n",
        "x_test = np.reshape(x_test, (x_test.shape[0], x_test.shape[1], 1))"
      ],
      "execution_count": 0,
      "outputs": []
    },
    {
      "cell_type": "code",
      "metadata": {
        "id": "Ogz4WxPXgLvs",
        "colab_type": "code",
        "colab": {}
      },
      "source": [
        "#Get the models predicted price values\n",
        "predictions = model.predict(x_test)\n",
        "predictions =  scaler.inverse_transform(predictions)"
      ],
      "execution_count": 0,
      "outputs": []
    },
    {
      "cell_type": "code",
      "metadata": {
        "id": "SeF53wrBgsge",
        "colab_type": "code",
        "outputId": "085d96ca-94a3-4ae5-b4f6-8313179ab044",
        "colab": {
          "base_uri": "https://localhost:8080/",
          "height": 35
        }
      },
      "source": [
        "#Get the root mean suared error(RMSE)\n",
        "rmse = np.sqrt(np.mean(predictions - y_test)**2)\n",
        "\n",
        "rmse"
      ],
      "execution_count": 0,
      "outputs": [
        {
          "output_type": "execute_result",
          "data": {
            "text/plain": [
              "7.764213897779693"
            ]
          },
          "metadata": {
            "tags": []
          },
          "execution_count": 79
        }
      ]
    },
    {
      "cell_type": "code",
      "metadata": {
        "id": "p3M5piyNhEa9",
        "colab_type": "code",
        "outputId": "0a5a3148-4026-451b-e8e6-6981d0d552b4",
        "colab": {
          "base_uri": "https://localhost:8080/",
          "height": 757
        }
      },
      "source": [
        "#plot the data\n",
        "train = data[: training_data_len]\n",
        "valid= data[training_data_len :]\n",
        "valid['Prediction'] = predictions\n",
        "#visualize the model\n",
        "plt.figure(figsize=(20,10))\n",
        "plt.title('Model')\n",
        "plt.xlabel('Date',fontsize=18)\n",
        "plt.ylabel('Close Price USD($)', fontsize=18)\n",
        "plt.plot(train['Close'])\n",
        "\n",
        "plt.show()"
      ],
      "execution_count": 0,
      "outputs": [
        {
          "output_type": "stream",
          "text": [
            "/usr/local/lib/python3.6/dist-packages/ipykernel_launcher.py:3: SettingWithCopyWarning: \n",
            "A value is trying to be set on a copy of a slice from a DataFrame.\n",
            "Try using .loc[row_indexer,col_indexer] = value instead\n",
            "\n",
            "See the caveats in the documentation: http://pandas.pydata.org/pandas-docs/stable/user_guide/indexing.html#returning-a-view-versus-a-copy\n",
            "  This is separate from the ipykernel package so we can avoid doing imports until\n"
          ],
          "name": "stderr"
        },
        {
          "output_type": "display_data",
          "data": {
            "image/png": "[encoded data removed]",
            "text/plain": [
              "<Figure size 1440x720 with 1 Axes>"
            ]
          },
          "metadata": {
            "tags": []
          }
        }
      ]
    },
    {
      "cell_type": "code",
      "metadata": {
        "id": "H-eeyN1MfI6_",
        "colab_type": "code",
        "outputId": "39cba04d-11cf-406e-fdf7-163b2413f01c",
        "colab": {
          "base_uri": "https://localhost:8080/",
          "height": 428
        }
      },
      "source": [
        "#show the valid and actual prices\n",
        "\n",
        "valid"
      ],
      "execution_count": 0,
      "outputs": [
        {
          "output_type": "execute_result",
          "data": {
            "text/html": [
              "<div>\n",
              "<style scoped>\n",
              "    .dataframe tbody tr th:only-of-type {\n",
              "        vertical-align: middle;\n",
              "    }\n",
              "\n",
              "    .dataframe tbody tr th {\n",
              "        vertical-align: top;\n",
              "    }\n",
              "\n",
              "    .dataframe thead th {\n",
              "        text-align: right;\n",
              "    }\n",
              "</style>\n",
              "<table border=\"1\" class=\"dataframe\">\n",
              "  <thead>\n",
              "    <tr style=\"text-align: right;\">\n",
              "      <th></th>\n",
              "      <th>Close</th>\n",
              "      <th>Prediction</th>\n",
              "    </tr>\n",
              "    <tr>\n",
              "      <th>Date</th>\n",
              "      <th></th>\n",
              "      <th></th>\n",
              "    </tr>\n",
              "  </thead>\n",
              "  <tbody>\n",
              "    <tr>\n",
              "      <th>2018-07-11</th>\n",
              "      <td>101.980003</td>\n",
              "      <td>96.437332</td>\n",
              "    </tr>\n",
              "    <tr>\n",
              "      <th>2018-07-12</th>\n",
              "      <td>104.190002</td>\n",
              "      <td>96.736984</td>\n",
              "    </tr>\n",
              "    <tr>\n",
              "      <th>2018-07-13</th>\n",
              "      <td>105.430000</td>\n",
              "      <td>97.167686</td>\n",
              "    </tr>\n",
              "    <tr>\n",
              "      <th>2018-07-16</th>\n",
              "      <td>104.910004</td>\n",
              "      <td>97.723625</td>\n",
              "    </tr>\n",
              "    <tr>\n",
              "      <th>2018-07-17</th>\n",
              "      <td>105.949997</td>\n",
              "      <td>98.277176</td>\n",
              "    </tr>\n",
              "    <tr>\n",
              "      <th>...</th>\n",
              "      <td>...</td>\n",
              "      <td>...</td>\n",
              "    </tr>\n",
              "    <tr>\n",
              "      <th>2020-02-19</th>\n",
              "      <td>187.279999</td>\n",
              "      <td>166.700302</td>\n",
              "    </tr>\n",
              "    <tr>\n",
              "      <th>2020-02-20</th>\n",
              "      <td>184.419998</td>\n",
              "      <td>167.334976</td>\n",
              "    </tr>\n",
              "    <tr>\n",
              "      <th>2020-02-21</th>\n",
              "      <td>178.589996</td>\n",
              "      <td>167.713745</td>\n",
              "    </tr>\n",
              "    <tr>\n",
              "      <th>2020-02-24</th>\n",
              "      <td>170.889999</td>\n",
              "      <td>167.578339</td>\n",
              "    </tr>\n",
              "    <tr>\n",
              "      <th>2020-02-25</th>\n",
              "      <td>168.070007</td>\n",
              "      <td>166.713379</td>\n",
              "    </tr>\n",
              "  </tbody>\n",
              "</table>\n",
              "<p>409 rows × 2 columns</p>\n",
              "</div>"
            ],
            "text/plain": [
              "                 Close  Prediction\n",
              "Date                              \n",
              "2018-07-11  101.980003   96.437332\n",
              "2018-07-12  104.190002   96.736984\n",
              "2018-07-13  105.430000   97.167686\n",
              "2018-07-16  104.910004   97.723625\n",
              "2018-07-17  105.949997   98.277176\n",
              "...                ...         ...\n",
              "2020-02-19  187.279999  166.700302\n",
              "2020-02-20  184.419998  167.334976\n",
              "2020-02-21  178.589996  167.713745\n",
              "2020-02-24  170.889999  167.578339\n",
              "2020-02-25  168.070007  166.713379\n",
              "\n",
              "[409 rows x 2 columns]"
            ]
          },
          "metadata": {
            "tags": []
          },
          "execution_count": 82
        }
      ]
    },
    {
      "cell_type": "code",
      "metadata": {
        "id": "f60PMo_CxTOG",
        "colab_type": "code",
        "outputId": "f9440ff9-2057-4beb-eca7-4b3c9a0a5fe4",
        "colab": {
          "base_uri": "https://localhost:8080/",
          "height": 284
        }
      },
      "source": [
        "#get the quote\n",
        "microsoft_quote = web.DataReader('msft',data_source='yahoo',start='2012-01-01',end='today')\n",
        "\n",
        "print(microsoft_quote)"
      ],
      "execution_count": 0,
      "outputs": [
        {
          "output_type": "stream",
          "text": [
            "                  High         Low  ...      Volume   Adj Close\n",
            "Date                                ...                        \n",
            "2012-01-03   26.959999   26.389999  ...  64731500.0   22.020796\n",
            "2012-01-04   27.469999   26.780001  ...  80516100.0   22.539021\n",
            "2012-01-05   27.730000   27.290001  ...  56081400.0   22.769344\n",
            "2012-01-06   28.190001   27.530001  ...  99455500.0   23.123066\n",
            "2012-01-09   28.100000   27.719999  ...  59706800.0   22.818701\n",
            "...                ...         ...  ...         ...         ...\n",
            "2020-02-19  188.179993  186.470001  ...  29997500.0  187.279999\n",
            "2020-02-20  187.250000  181.100006  ...  36862400.0  184.419998\n",
            "2020-02-21  183.500000  177.250000  ...  48572600.0  178.589996\n",
            "2020-02-24  174.550003  163.229996  ...  68311100.0  170.889999\n",
            "2020-02-25  174.839996  167.649994  ...  67936100.0  168.070007\n",
            "\n",
            "[2049 rows x 6 columns]\n"
          ],
          "name": "stdout"
        }
      ]
    },
    {
      "cell_type": "code",
      "metadata": {
        "id": "Dm5gyMkyfWzx",
        "colab_type": "code",
        "outputId": "6a4cc83b-5f4b-4d25-bf94-6469bc19b7ee",
        "colab": {
          "base_uri": "https://localhost:8080/",
          "height": 35
        }
      },
      "source": [
        "\n",
        "#create new dataframe\n",
        "new_df = microsoft_quote.filter(['Close'])\n",
        "\n",
        "#Get the last 60 days closing price values and convert the data frame into arrays\n",
        "last_60_days = new_df[-60: ].values\n",
        "#print(last_60_days)\n",
        "\n",
        "last_60_days_scaled = scaler.transform(last_60_days)\n",
        "#create an empty list\n",
        "X_test = []\n",
        "#Append the past 60 days\n",
        "X_test.append(last_60_days_scaled)\n",
        "\n",
        "#convert the X_test data into numpy array\n",
        "X_test=np.array(X_test)\n",
        "#print(X_test)\n",
        "#Reshape the data\n",
        "X_test = np.reshape(X_test, (X_test.shape[0], X_test.shape[1], 1))\n",
        "#Get the predicted scaled price\n",
        "pred_price = model.predict(X_test)\n",
        "#undo scalling\n",
        "pred_price = scaler.inverse_transform(pred_price)\n",
        "print (pred_price)\n",
        "\n",
        "\n",
        "\n"
      ],
      "execution_count": 0,
      "outputs": [
        {
          "output_type": "stream",
          "text": [
            "[[167.71376]]\n"
          ],
          "name": "stdout"
        }
      ]
    },
    {
      "cell_type": "code",
      "metadata": {
        "id": "SeQlx8Rwr-4s",
        "colab_type": "code",
        "outputId": "cd961990-9d89-4480-f0e3-268f3015005e",
        "colab": {
          "base_uri": "https://localhost:8080/",
          "height": 70
        }
      },
      "source": [
        "#get the quote\n",
        "microsoft_quote2 = web.DataReader('msft',data_source='yahoo',start= today ,end= today )\n",
        "print(microsoft_quote2['Close'])"
      ],
      "execution_count": 0,
      "outputs": [
        {
          "output_type": "stream",
          "text": [
            "Date\n",
            "2020-02-25    168.070007\n",
            "Name: Close, dtype: float64\n"
          ],
          "name": "stdout"
        }
      ]
    }
  ]
}